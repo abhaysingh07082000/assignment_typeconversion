{
 "cells": [
  {
   "cell_type": "markdown",
   "id": "8e1d8172",
   "metadata": {},
   "source": [
    "# Assignment-Type Conversion-By(Abhay Singh-abhaysingh07082000@gmail.com)"
   ]
  },
  {
   "cell_type": "markdown",
   "id": "26993a20",
   "metadata": {},
   "source": [
    "# Q1.Covert a iteger to a floatig-poit number."
   ]
  },
  {
   "cell_type": "code",
   "execution_count": 1,
   "id": "ae317d9e",
   "metadata": {},
   "outputs": [],
   "source": [
    "a=5\n",
    "b=float(a)"
   ]
  },
  {
   "cell_type": "code",
   "execution_count": 2,
   "id": "4dafb786",
   "metadata": {},
   "outputs": [
    {
     "data": {
      "text/plain": [
       "5"
      ]
     },
     "execution_count": 2,
     "metadata": {},
     "output_type": "execute_result"
    }
   ],
   "source": [
    "a"
   ]
  },
  {
   "cell_type": "code",
   "execution_count": 3,
   "id": "7668efab",
   "metadata": {},
   "outputs": [
    {
     "data": {
      "text/plain": [
       "5.0"
      ]
     },
     "execution_count": 3,
     "metadata": {},
     "output_type": "execute_result"
    }
   ],
   "source": [
    "b"
   ]
  },
  {
   "cell_type": "markdown",
   "id": "2f6a0956",
   "metadata": {},
   "source": [
    "# Q2. Covert a float to a iteger."
   ]
  },
  {
   "cell_type": "code",
   "execution_count": 4,
   "id": "246f5bb7",
   "metadata": {},
   "outputs": [],
   "source": [
    "x=5.0\n",
    "y=int(x)"
   ]
  },
  {
   "cell_type": "code",
   "execution_count": 6,
   "id": "b0a714fa",
   "metadata": {},
   "outputs": [
    {
     "data": {
      "text/plain": [
       "5.0"
      ]
     },
     "execution_count": 6,
     "metadata": {},
     "output_type": "execute_result"
    }
   ],
   "source": [
    "x"
   ]
  },
  {
   "cell_type": "code",
   "execution_count": 7,
   "id": "28e1159f",
   "metadata": {},
   "outputs": [
    {
     "data": {
      "text/plain": [
       "5"
      ]
     },
     "execution_count": 7,
     "metadata": {},
     "output_type": "execute_result"
    }
   ],
   "source": [
    "y"
   ]
  },
  {
   "cell_type": "markdown",
   "id": "47d8ed28",
   "metadata": {},
   "source": [
    "# Q3.Covert a iteger to a string."
   ]
  },
  {
   "cell_type": "code",
   "execution_count": 8,
   "id": "5066273d",
   "metadata": {},
   "outputs": [],
   "source": [
    "s=5454"
   ]
  },
  {
   "cell_type": "code",
   "execution_count": 12,
   "id": "67602d83",
   "metadata": {},
   "outputs": [],
   "source": [
    "t=str(s)"
   ]
  },
  {
   "cell_type": "code",
   "execution_count": 13,
   "id": "0d58af0e",
   "metadata": {},
   "outputs": [
    {
     "data": {
      "text/plain": [
       "'5454'"
      ]
     },
     "execution_count": 13,
     "metadata": {},
     "output_type": "execute_result"
    }
   ],
   "source": [
    "t"
   ]
  },
  {
   "cell_type": "markdown",
   "id": "22b901e9",
   "metadata": {},
   "source": [
    "# Q4.Covert a list to a tuple."
   ]
  },
  {
   "cell_type": "code",
   "execution_count": 15,
   "id": "7b016886",
   "metadata": {},
   "outputs": [],
   "source": [
    "l=[4,5,6,8,9,7,8]"
   ]
  },
  {
   "cell_type": "code",
   "execution_count": 16,
   "id": "035a7a6f",
   "metadata": {},
   "outputs": [],
   "source": [
    "tup=tuple(l)"
   ]
  },
  {
   "cell_type": "code",
   "execution_count": 17,
   "id": "1c333b16",
   "metadata": {},
   "outputs": [
    {
     "data": {
      "text/plain": [
       "[4, 5, 6, 8, 9, 7, 8]"
      ]
     },
     "execution_count": 17,
     "metadata": {},
     "output_type": "execute_result"
    }
   ],
   "source": [
    "l"
   ]
  },
  {
   "cell_type": "code",
   "execution_count": 18,
   "id": "ab9cffe8",
   "metadata": {},
   "outputs": [
    {
     "data": {
      "text/plain": [
       "(4, 5, 6, 8, 9, 7, 8)"
      ]
     },
     "execution_count": 18,
     "metadata": {},
     "output_type": "execute_result"
    }
   ],
   "source": [
    "tup"
   ]
  },
  {
   "cell_type": "markdown",
   "id": "351dbefe",
   "metadata": {},
   "source": [
    "# Q5 Covert a tuple to a list."
   ]
  },
  {
   "cell_type": "code",
   "execution_count": 1,
   "id": "cb4a1285",
   "metadata": {},
   "outputs": [],
   "source": [
    "my_tuple=(1,2)"
   ]
  },
  {
   "cell_type": "code",
   "execution_count": 2,
   "id": "c40c79ec",
   "metadata": {},
   "outputs": [],
   "source": [
    "my_list=list(my_tuple)"
   ]
  },
  {
   "cell_type": "code",
   "execution_count": 3,
   "id": "07769d5f",
   "metadata": {},
   "outputs": [
    {
     "data": {
      "text/plain": [
       "[1, 2]"
      ]
     },
     "execution_count": 3,
     "metadata": {},
     "output_type": "execute_result"
    }
   ],
   "source": [
    "my_list"
   ]
  },
  {
   "cell_type": "markdown",
   "id": "de85af54",
   "metadata": {},
   "source": [
    "# Q6 Convert a decimal number to binary."
   ]
  },
  {
   "cell_type": "code",
   "execution_count": 6,
   "id": "7923737d",
   "metadata": {},
   "outputs": [],
   "source": [
    "d=52"
   ]
  },
  {
   "cell_type": "code",
   "execution_count": 7,
   "id": "ec6a933b",
   "metadata": {},
   "outputs": [],
   "source": [
    "b=bin(d)"
   ]
  },
  {
   "cell_type": "code",
   "execution_count": 8,
   "id": "da4a4c8c",
   "metadata": {},
   "outputs": [
    {
     "data": {
      "text/plain": [
       "'0b110100'"
      ]
     },
     "execution_count": 8,
     "metadata": {},
     "output_type": "execute_result"
    }
   ],
   "source": [
    "b"
   ]
  },
  {
   "cell_type": "markdown",
   "id": "086deed6",
   "metadata": {},
   "source": [
    "# Q7 Convert a non-zero number to boolean."
   ]
  },
  {
   "cell_type": "code",
   "execution_count": 10,
   "id": "f63157a6",
   "metadata": {},
   "outputs": [],
   "source": [
    "b=45\n",
    "my_bool=bool(b)"
   ]
  },
  {
   "cell_type": "code",
   "execution_count": 11,
   "id": "8d282ee8",
   "metadata": {},
   "outputs": [
    {
     "data": {
      "text/plain": [
       "True"
      ]
     },
     "execution_count": 11,
     "metadata": {},
     "output_type": "execute_result"
    }
   ],
   "source": [
    "my_bool"
   ]
  },
  {
   "cell_type": "code",
   "execution_count": null,
   "id": "e2b0e028",
   "metadata": {},
   "outputs": [],
   "source": []
  }
 ],
 "metadata": {
  "kernelspec": {
   "display_name": "Python 3 (ipykernel)",
   "language": "python",
   "name": "python3"
  },
  "language_info": {
   "codemirror_mode": {
    "name": "ipython",
    "version": 3
   },
   "file_extension": ".py",
   "mimetype": "text/x-python",
   "name": "python",
   "nbconvert_exporter": "python",
   "pygments_lexer": "ipython3",
   "version": "3.11.5"
  }
 },
 "nbformat": 4,
 "nbformat_minor": 5
}
